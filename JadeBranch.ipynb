{
 "cells": [
  {
   "cell_type": "code",
   "execution_count": null,
   "source": [
    "#Export the DataFrame as a CSV file. \n",
    "campaign_cleaned.to_csv(\"Script_and_Files/Resources/contacts.xlsx\", index=False)"
   ],
   "outputs": [],
   "metadata": {}
  },
  {
   "cell_type": "code",
   "execution_count": null,
   "source": [
    "# Read the data into a Pandas DataFrame. Use the `header=2` parameter when reading in the data.\n",
    "contact_info_df = pd.read_excel('Script_and_Files/Resources/contacts.xlsx', header=2)\n",
    "contact_info_df.head()"
   ],
   "outputs": [],
   "metadata": {}
  },
  {
   "cell_type": "code",
   "execution_count": null,
   "source": [
    "# Iterate through the contact_info_df and convert each row to a dictionary.\n",
    "import json\n",
    "dict_values = []\n",
    "for index, row in contact_info_df.iterrows():\n",
    "    row_dict = row.to_dict()\n",
    "    dict_values.append(row_dict)\n",
    "\n",
    "# Print out the list of values for each row.\n",
    "print(dict_values)"
   ],
   "outputs": [],
   "metadata": {}
  },
  {
   "cell_type": "code",
   "execution_count": null,
   "source": [
    "# Create a contact_info DataFrame and add each list of values, i.e., each row \n",
    "# to the 'contact_id', 'name', 'email' columns.\n",
    "contact_info_cols = [\"contact_id\", \"name\", \"email\"]\n",
    "contact_info_df = contact_info_df = pd.DataFrame(dict_values, columns= contact_info_cols)"
   ],
   "outputs": [],
   "metadata": {}
  },
  {
   "cell_type": "code",
   "execution_count": null,
   "source": [
    "# Check the datatypes.\n",
    "contact_info_df.datatypes"
   ],
   "outputs": [],
   "metadata": {}
  },
  {
   "cell_type": "code",
   "execution_count": null,
   "source": [
    "# Create a \"first\"name\" and \"last_name\" column with the first and last names from the \"name\" column. \n",
    "contact_info_df[['first_name', 'last_name']] = contact_info_df['name'].str.split(' ', 1, expand=True)\n",
    "\n",
    "# Drop the contact_name column\n",
    "contact_info_df.drop(columns=['name'], inplace=True)\n",
    "contact_info.head()"
   ],
   "outputs": [],
   "metadata": {}
  },
  {
   "cell_type": "code",
   "execution_count": null,
   "source": [
    "# Reorder the columns\n",
    "column_order = [\"contact_id\", \"first_name\", \"last_name\", \"email\"]\n",
    "contact_info_df= contact_info_df[column_order]"
   ],
   "outputs": [],
   "metadata": {}
  },
  {
   "cell_type": "code",
   "execution_count": null,
   "source": [
    "# Check the datatypes one more time before exporting as CSV file.\n",
    "contact_info_df.datatypes"
   ],
   "outputs": [],
   "metadata": {}
  },
  {
   "cell_type": "code",
   "execution_count": null,
   "source": [
    "# Export the DataFrame as a CSV file. \n",
    "contacts_df_clean.to_csv(\"Script_and_Files/Resources/contacts.csv\", encoding='utf8', index=False)"
   ],
   "outputs": [],
   "metadata": {}
  }
 ],
 "metadata": {
  "orig_nbformat": 4,
  "language_info": {
   "name": "plaintext"
  }
 },
 "nbformat": 4,
 "nbformat_minor": 2
}